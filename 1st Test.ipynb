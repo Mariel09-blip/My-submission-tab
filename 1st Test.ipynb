{
  "metadata": {
    "language_info": {
      "codemirror_mode": {
        "name": "python",
        "version": 3
      },
      "file_extension": ".py",
      "mimetype": "text/x-python",
      "name": "python",
      "nbconvert_exporter": "python",
      "pygments_lexer": "ipython3",
      "version": "3.8"
    },
    "kernelspec": {
      "name": "python",
      "display_name": "Pyolite",
      "language": "python"
    }
  },
  "nbformat_minor": 4,
  "nbformat": 4,
  "cells": [
    {
      "cell_type": "markdown",
      "source": "# My Jupyter Notebook on Skill Network Labs",
      "metadata": {}
    },
    {
      "cell_type": "markdown",
      "source": "**Mariel Flores**\nPower Plant Chemist ",
      "metadata": {}
    },
    {
      "cell_type": "markdown",
      "source": "*I am interested in Data Science because going to introduce me to a open field in many areas*\n_I am interested in Data Science because USA does not want to miss such a talent_",
      "metadata": {}
    },
    {
      "cell_type": "markdown",
      "source": "### My code going to be able to make basic math operations ###",
      "metadata": {}
    },
    {
      "cell_type": "code",
      "source": "1+1",
      "metadata": {
        "trusted": true
      },
      "execution_count": 1,
      "outputs": [
        {
          "execution_count": 1,
          "output_type": "execute_result",
          "data": {
            "text/plain": "2"
          },
          "metadata": {}
        }
      ]
    },
    {
      "cell_type": "code",
      "source": "1-1",
      "metadata": {
        "trusted": true
      },
      "execution_count": 2,
      "outputs": [
        {
          "execution_count": 2,
          "output_type": "execute_result",
          "data": {
            "text/plain": "0"
          },
          "metadata": {}
        }
      ]
    },
    {
      "cell_type": "markdown",
      "source": "1. Hello World \n2. How are you feeling today\n3. When are we going to have sunny days in NYC",
      "metadata": {}
    },
    {
      "cell_type": "markdown",
      "source": "1. Hi Sun\n-  how have you been",
      "metadata": {}
    },
    {
      "cell_type": "markdown",
      "source": "* Hi clouds\n - its been a long time \n 2. my first test markcoding",
      "metadata": {}
    },
    {
      "cell_type": "code",
      "source": "",
      "metadata": {},
      "execution_count": null,
      "outputs": []
    }
  ]
}